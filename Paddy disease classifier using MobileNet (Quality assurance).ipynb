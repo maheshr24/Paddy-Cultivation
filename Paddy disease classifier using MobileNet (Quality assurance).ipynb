{
  "cells": [
    {
      "cell_type": "markdown",
      "metadata": {
        "id": "view-in-github",
        "colab_type": "text"
      },
      "source": [
        "<a href=\"https://colab.research.google.com/github/maheshr24/Paddy-Cultivation/blob/main/Paddy%20disease%20classifier%20using%20MobileNet%20(Quality%20assurance).ipynb\" target=\"_parent\"><img src=\"https://colab.research.google.com/assets/colab-badge.svg\" alt=\"Open In Colab\"/></a>"
      ]
    },
    {
      "cell_type": "code",
      "execution_count": null,
      "metadata": {
        "id": "Bpc2nsUBCu-c"
      },
      "outputs": [],
      "source": [
        "from PIL import Image\n",
        "import matplotlib.pyplot as plt\n",
        "import pandas as pd\n",
        "import numpy as np\n",
        "import seaborn as sb\n",
        "import os\n",
        "import warnings\n",
        "warnings.filterwarnings('ignore')\n",
        "from glob import glob\n",
        "import tensorflow as tf\n",
        "from tensorflow.keras.layers.experimental.preprocessing import RandomFlip\n",
        "import tensorflow.keras.layers as tfl\n",
        "from tensorflow.keras.preprocessing import image_dataset_from_directory"
      ]
    },
    {
      "cell_type": "code",
      "execution_count": null,
      "metadata": {
        "colab": {
          "base_uri": "https://localhost:8080/",
          "height": 206
        },
        "id": "4GooeU6_CvuZ",
        "outputId": "16faa1a4-e4f2-4df7-ba70-63cf3323f6b3"
      },
      "outputs": [
        {
          "data": {
            "text/html": [
              "\n",
              "  <div id=\"df-44c4de25-b1ca-4e54-84ae-dd9f9fbaa53c\" class=\"colab-df-container\">\n",
              "    <div>\n",
              "<style scoped>\n",
              "    .dataframe tbody tr th:only-of-type {\n",
              "        vertical-align: middle;\n",
              "    }\n",
              "\n",
              "    .dataframe tbody tr th {\n",
              "        vertical-align: top;\n",
              "    }\n",
              "\n",
              "    .dataframe thead th {\n",
              "        text-align: right;\n",
              "    }\n",
              "</style>\n",
              "<table border=\"1\" class=\"dataframe\">\n",
              "  <thead>\n",
              "    <tr style=\"text-align: right;\">\n",
              "      <th></th>\n",
              "      <th>image_id</th>\n",
              "      <th>label</th>\n",
              "      <th>variety</th>\n",
              "      <th>age</th>\n",
              "    </tr>\n",
              "  </thead>\n",
              "  <tbody>\n",
              "    <tr>\n",
              "      <th>0</th>\n",
              "      <td>100330.jpg</td>\n",
              "      <td>bacterial_leaf_blight</td>\n",
              "      <td>ADT45</td>\n",
              "      <td>45</td>\n",
              "    </tr>\n",
              "    <tr>\n",
              "      <th>1</th>\n",
              "      <td>100365.jpg</td>\n",
              "      <td>bacterial_leaf_blight</td>\n",
              "      <td>ADT45</td>\n",
              "      <td>45</td>\n",
              "    </tr>\n",
              "    <tr>\n",
              "      <th>2</th>\n",
              "      <td>100382.jpg</td>\n",
              "      <td>bacterial_leaf_blight</td>\n",
              "      <td>ADT45</td>\n",
              "      <td>45</td>\n",
              "    </tr>\n",
              "    <tr>\n",
              "      <th>3</th>\n",
              "      <td>100632.jpg</td>\n",
              "      <td>bacterial_leaf_blight</td>\n",
              "      <td>ADT45</td>\n",
              "      <td>45</td>\n",
              "    </tr>\n",
              "    <tr>\n",
              "      <th>4</th>\n",
              "      <td>101918.jpg</td>\n",
              "      <td>bacterial_leaf_blight</td>\n",
              "      <td>ADT45</td>\n",
              "      <td>45</td>\n",
              "    </tr>\n",
              "  </tbody>\n",
              "</table>\n",
              "</div>\n",
              "    <div class=\"colab-df-buttons\">\n",
              "\n",
              "  <div class=\"colab-df-container\">\n",
              "    <button class=\"colab-df-convert\" onclick=\"convertToInteractive('df-44c4de25-b1ca-4e54-84ae-dd9f9fbaa53c')\"\n",
              "            title=\"Convert this dataframe to an interactive table.\"\n",
              "            style=\"display:none;\">\n",
              "\n",
              "  <svg xmlns=\"http://www.w3.org/2000/svg\" height=\"24px\" viewBox=\"0 -960 960 960\">\n",
              "    <path d=\"M120-120v-720h720v720H120Zm60-500h600v-160H180v160Zm220 220h160v-160H400v160Zm0 220h160v-160H400v160ZM180-400h160v-160H180v160Zm440 0h160v-160H620v160ZM180-180h160v-160H180v160Zm440 0h160v-160H620v160Z\"/>\n",
              "  </svg>\n",
              "    </button>\n",
              "\n",
              "  <style>\n",
              "    .colab-df-container {\n",
              "      display:flex;\n",
              "      gap: 12px;\n",
              "    }\n",
              "\n",
              "    .colab-df-convert {\n",
              "      background-color: #E8F0FE;\n",
              "      border: none;\n",
              "      border-radius: 50%;\n",
              "      cursor: pointer;\n",
              "      display: none;\n",
              "      fill: #1967D2;\n",
              "      height: 32px;\n",
              "      padding: 0 0 0 0;\n",
              "      width: 32px;\n",
              "    }\n",
              "\n",
              "    .colab-df-convert:hover {\n",
              "      background-color: #E2EBFA;\n",
              "      box-shadow: 0px 1px 2px rgba(60, 64, 67, 0.3), 0px 1px 3px 1px rgba(60, 64, 67, 0.15);\n",
              "      fill: #174EA6;\n",
              "    }\n",
              "\n",
              "    .colab-df-buttons div {\n",
              "      margin-bottom: 4px;\n",
              "    }\n",
              "\n",
              "    [theme=dark] .colab-df-convert {\n",
              "      background-color: #3B4455;\n",
              "      fill: #D2E3FC;\n",
              "    }\n",
              "\n",
              "    [theme=dark] .colab-df-convert:hover {\n",
              "      background-color: #434B5C;\n",
              "      box-shadow: 0px 1px 3px 1px rgba(0, 0, 0, 0.15);\n",
              "      filter: drop-shadow(0px 1px 2px rgba(0, 0, 0, 0.3));\n",
              "      fill: #FFFFFF;\n",
              "    }\n",
              "  </style>\n",
              "\n",
              "    <script>\n",
              "      const buttonEl =\n",
              "        document.querySelector('#df-44c4de25-b1ca-4e54-84ae-dd9f9fbaa53c button.colab-df-convert');\n",
              "      buttonEl.style.display =\n",
              "        google.colab.kernel.accessAllowed ? 'block' : 'none';\n",
              "\n",
              "      async function convertToInteractive(key) {\n",
              "        const element = document.querySelector('#df-44c4de25-b1ca-4e54-84ae-dd9f9fbaa53c');\n",
              "        const dataTable =\n",
              "          await google.colab.kernel.invokeFunction('convertToInteractive',\n",
              "                                                    [key], {});\n",
              "        if (!dataTable) return;\n",
              "\n",
              "        const docLinkHtml = 'Like what you see? Visit the ' +\n",
              "          '<a target=\"_blank\" href=https://colab.research.google.com/notebooks/data_table.ipynb>data table notebook</a>'\n",
              "          + ' to learn more about interactive tables.';\n",
              "        element.innerHTML = '';\n",
              "        dataTable['output_type'] = 'display_data';\n",
              "        await google.colab.output.renderOutput(dataTable, element);\n",
              "        const docLink = document.createElement('div');\n",
              "        docLink.innerHTML = docLinkHtml;\n",
              "        element.appendChild(docLink);\n",
              "      }\n",
              "    </script>\n",
              "  </div>\n",
              "\n",
              "\n",
              "<div id=\"df-28ef3540-d526-4f4a-a8fe-92b9c9c95c92\">\n",
              "  <button class=\"colab-df-quickchart\" onclick=\"quickchart('df-28ef3540-d526-4f4a-a8fe-92b9c9c95c92')\"\n",
              "            title=\"Suggest charts.\"\n",
              "            style=\"display:none;\">\n",
              "\n",
              "<svg xmlns=\"http://www.w3.org/2000/svg\" height=\"24px\"viewBox=\"0 0 24 24\"\n",
              "     width=\"24px\">\n",
              "    <g>\n",
              "        <path d=\"M19 3H5c-1.1 0-2 .9-2 2v14c0 1.1.9 2 2 2h14c1.1 0 2-.9 2-2V5c0-1.1-.9-2-2-2zM9 17H7v-7h2v7zm4 0h-2V7h2v10zm4 0h-2v-4h2v4z\"/>\n",
              "    </g>\n",
              "</svg>\n",
              "  </button>\n",
              "\n",
              "<style>\n",
              "  .colab-df-quickchart {\n",
              "      --bg-color: #E8F0FE;\n",
              "      --fill-color: #1967D2;\n",
              "      --hover-bg-color: #E2EBFA;\n",
              "      --hover-fill-color: #174EA6;\n",
              "      --disabled-fill-color: #AAA;\n",
              "      --disabled-bg-color: #DDD;\n",
              "  }\n",
              "\n",
              "  [theme=dark] .colab-df-quickchart {\n",
              "      --bg-color: #3B4455;\n",
              "      --fill-color: #D2E3FC;\n",
              "      --hover-bg-color: #434B5C;\n",
              "      --hover-fill-color: #FFFFFF;\n",
              "      --disabled-bg-color: #3B4455;\n",
              "      --disabled-fill-color: #666;\n",
              "  }\n",
              "\n",
              "  .colab-df-quickchart {\n",
              "    background-color: var(--bg-color);\n",
              "    border: none;\n",
              "    border-radius: 50%;\n",
              "    cursor: pointer;\n",
              "    display: none;\n",
              "    fill: var(--fill-color);\n",
              "    height: 32px;\n",
              "    padding: 0;\n",
              "    width: 32px;\n",
              "  }\n",
              "\n",
              "  .colab-df-quickchart:hover {\n",
              "    background-color: var(--hover-bg-color);\n",
              "    box-shadow: 0 1px 2px rgba(60, 64, 67, 0.3), 0 1px 3px 1px rgba(60, 64, 67, 0.15);\n",
              "    fill: var(--button-hover-fill-color);\n",
              "  }\n",
              "\n",
              "  .colab-df-quickchart-complete:disabled,\n",
              "  .colab-df-quickchart-complete:disabled:hover {\n",
              "    background-color: var(--disabled-bg-color);\n",
              "    fill: var(--disabled-fill-color);\n",
              "    box-shadow: none;\n",
              "  }\n",
              "\n",
              "  .colab-df-spinner {\n",
              "    border: 2px solid var(--fill-color);\n",
              "    border-color: transparent;\n",
              "    border-bottom-color: var(--fill-color);\n",
              "    animation:\n",
              "      spin 1s steps(1) infinite;\n",
              "  }\n",
              "\n",
              "  @keyframes spin {\n",
              "    0% {\n",
              "      border-color: transparent;\n",
              "      border-bottom-color: var(--fill-color);\n",
              "      border-left-color: var(--fill-color);\n",
              "    }\n",
              "    20% {\n",
              "      border-color: transparent;\n",
              "      border-left-color: var(--fill-color);\n",
              "      border-top-color: var(--fill-color);\n",
              "    }\n",
              "    30% {\n",
              "      border-color: transparent;\n",
              "      border-left-color: var(--fill-color);\n",
              "      border-top-color: var(--fill-color);\n",
              "      border-right-color: var(--fill-color);\n",
              "    }\n",
              "    40% {\n",
              "      border-color: transparent;\n",
              "      border-right-color: var(--fill-color);\n",
              "      border-top-color: var(--fill-color);\n",
              "    }\n",
              "    60% {\n",
              "      border-color: transparent;\n",
              "      border-right-color: var(--fill-color);\n",
              "    }\n",
              "    80% {\n",
              "      border-color: transparent;\n",
              "      border-right-color: var(--fill-color);\n",
              "      border-bottom-color: var(--fill-color);\n",
              "    }\n",
              "    90% {\n",
              "      border-color: transparent;\n",
              "      border-bottom-color: var(--fill-color);\n",
              "    }\n",
              "  }\n",
              "</style>\n",
              "\n",
              "  <script>\n",
              "    async function quickchart(key) {\n",
              "      const quickchartButtonEl =\n",
              "        document.querySelector('#' + key + ' button');\n",
              "      quickchartButtonEl.disabled = true;  // To prevent multiple clicks.\n",
              "      quickchartButtonEl.classList.add('colab-df-spinner');\n",
              "      try {\n",
              "        const charts = await google.colab.kernel.invokeFunction(\n",
              "            'suggestCharts', [key], {});\n",
              "      } catch (error) {\n",
              "        console.error('Error during call to suggestCharts:', error);\n",
              "      }\n",
              "      quickchartButtonEl.classList.remove('colab-df-spinner');\n",
              "      quickchartButtonEl.classList.add('colab-df-quickchart-complete');\n",
              "    }\n",
              "    (() => {\n",
              "      let quickchartButtonEl =\n",
              "        document.querySelector('#df-28ef3540-d526-4f4a-a8fe-92b9c9c95c92 button');\n",
              "      quickchartButtonEl.style.display =\n",
              "        google.colab.kernel.accessAllowed ? 'block' : 'none';\n",
              "    })();\n",
              "  </script>\n",
              "</div>\n",
              "    </div>\n",
              "  </div>\n"
            ],
            "text/plain": [
              "     image_id                  label variety  age\n",
              "0  100330.jpg  bacterial_leaf_blight   ADT45   45\n",
              "1  100365.jpg  bacterial_leaf_blight   ADT45   45\n",
              "2  100382.jpg  bacterial_leaf_blight   ADT45   45\n",
              "3  100632.jpg  bacterial_leaf_blight   ADT45   45\n",
              "4  101918.jpg  bacterial_leaf_blight   ADT45   45"
            ]
          },
          "execution_count": 4,
          "metadata": {},
          "output_type": "execute_result"
        }
      ],
      "source": [
        "df=pd.read_csv('/content/train (2).csv')\n",
        "df.head(5)"
      ]
    },
    {
      "cell_type": "code",
      "execution_count": null,
      "metadata": {
        "colab": {
          "base_uri": "https://localhost:8080/"
        },
        "id": "-fAWZvf7Falh",
        "outputId": "1506f090-a82f-427a-c57f-c7a56e7b7593"
      },
      "outputs": [
        {
          "name": "stdout",
          "output_type": "stream",
          "text": [
            "Found 3255 files belonging to 10 classes.\n",
            "Using 2930 files for training.\n",
            "Found 3255 files belonging to 10 classes.\n",
            "Using 325 files for validation.\n"
          ]
        }
      ],
      "source": [
        "labels = ['blast', 'blight', 'brown_spot', 'dead_heart', 'downy', 'hispa', 'normal', 'panicle_blight', 'streak', 'tungro']\n",
        "img_size = 400\n",
        "\n",
        "train_dataset = image_dataset_from_directory(\n",
        "    '/content/train',\n",
        "    image_size = (img_size,img_size),\n",
        "    batch_size = 64,\n",
        "    shuffle=True,\n",
        "    labels='inferred',\n",
        "    class_names = labels,\n",
        "    label_mode = 'categorical',\n",
        "    color_mode='rgb',\n",
        "    validation_split = 0.1,\n",
        "    subset='training',\n",
        "    seed=22\n",
        ")\n",
        "val_dataset = image_dataset_from_directory(\n",
        "    '/content/train',\n",
        "    image_size = (img_size,img_size),\n",
        "    batch_size = 64,\n",
        "    shuffle=False,\n",
        "    labels='inferred',\n",
        "    class_names = labels,\n",
        "    label_mode = 'categorical',\n",
        "    color_mode='rgb',\n",
        "    validation_split = 0.1,\n",
        "    subset='validation',\n",
        "    seed=22\n",
        ")"
      ]
    },
    {
      "cell_type": "code",
      "execution_count": null,
      "metadata": {
        "id": "aLckk5tNFaoV"
      },
      "outputs": [],
      "source": [
        "AUTOTUNE = tf.data.experimental.AUTOTUNE\n",
        "train_dataset = train_dataset.prefetch(buffer_size=AUTOTUNE)"
      ]
    },
    {
      "cell_type": "code",
      "execution_count": null,
      "metadata": {
        "id": "QfHvRFRwFaru"
      },
      "outputs": [],
      "source": [
        "def get_model(base, preprocessor, img_size):\n",
        "    inputs = tf.keras.Input(shape=(img_size,img_size,3))\n",
        "    x = RandomFlip('horizontal')(inputs)\n",
        "    x = preprocessor(x)\n",
        "    x = base(x)\n",
        "\n",
        "    x = tfl.Flatten()(x)\n",
        "    x = tfl.Dense(1024, activation='relu')(x)\n",
        "    x = tfl.BatchNormalization()(x)\n",
        "    x = tfl.Dense(512, activation='relu')(x)\n",
        "    x = tfl.BatchNormalization()(x)\n",
        "    x = tfl.Dense(128, activation='relu')(x)\n",
        "    x = tfl.Dropout(0.15)(x)\n",
        "    x = tfl.BatchNormalization()(x)\n",
        "    x = tfl.Dense(64, activation='relu')(x)\n",
        "    x = tfl.Dropout(0.3)(x)\n",
        "    x = tfl.BatchNormalization()(x)\n",
        "    outputs = tfl.Dense(10, activation='softmax')(x)\n",
        "\n",
        "    model = tf.keras.Model(inputs, outputs)\n",
        "\n",
        "    return model"
      ]
    },
    {
      "cell_type": "code",
      "execution_count": null,
      "metadata": {
        "colab": {
          "base_uri": "https://localhost:8080/"
        },
        "id": "jQuCo-F0F6cw",
        "outputId": "828960b6-b27f-4b45-e4b1-bfe3fa0179e6"
      },
      "outputs": [
        {
          "name": "stderr",
          "output_type": "stream",
          "text": [
            "WARNING:tensorflow:`input_shape` is undefined or non-square, or `rows` is not in [96, 128, 160, 192, 224]. Weights for input shape (224, 224) will be loaded as the default.\n"
          ]
        }
      ],
      "source": [
        "preprocess_input = tf.keras.applications.mobilenet_v2.preprocess_input\n",
        "\n",
        "pre_trained_model = tf.keras.applications.MobileNetV2(input_shape=(img_size,img_size,3),\n",
        "                                         include_top=False,\n",
        "                                         weights='imagenet')\n",
        "\n",
        "pre_trained_model.trainable = False"
      ]
    },
    {
      "cell_type": "code",
      "execution_count": null,
      "metadata": {
        "id": "7nKuE0QCF6YA"
      },
      "outputs": [],
      "source": [
        "model = get_model(pre_trained_model, preprocess_input, img_size)\n",
        "\n",
        "model.compile(\n",
        "    optimizer='adam',\n",
        "    loss = 'categorical_crossentropy',\n",
        "    metrics=['accuracy']\n",
        ")"
      ]
    },
    {
      "cell_type": "code",
      "execution_count": null,
      "metadata": {
        "colab": {
          "background_save": true,
          "base_uri": "https://localhost:8080/"
        },
        "id": "nliNRT1jGG5Z",
        "outputId": "a4d4df8c-a7f2-4155-a7ad-0ec7308cb587"
      },
      "outputs": [
        {
          "name": "stdout",
          "output_type": "stream",
          "text": [
            "Epoch 1/5\n",
            "46/46 [==============================] - 709s 15s/step - loss: 0.2400 - accuracy: 0.9300 - val_loss: 0.8569 - val_accuracy: 0.5815\n",
            "Epoch 2/5\n",
            "46/46 [==============================] - 678s 15s/step - loss: 0.1929 - accuracy: 0.9440 - val_loss: 0.8155 - val_accuracy: 0.6154\n",
            "Epoch 3/5\n",
            "46/46 [==============================] - 665s 14s/step - loss: 0.1631 - accuracy: 0.9491 - val_loss: 0.6013 - val_accuracy: 0.6800\n",
            "Epoch 4/5\n",
            "46/46 [==============================] - 619s 13s/step - loss: 0.1379 - accuracy: 0.9549 - val_loss: 0.6514 - val_accuracy: 0.6462\n",
            "Epoch 5/5\n",
            "46/46 [==============================] - 674s 15s/step - loss: 0.1366 - accuracy: 0.9526 - val_loss: 0.5526 - val_accuracy: 0.6923\n"
          ]
        }
      ],
      "source": [
        "history = model.fit(train_dataset,\n",
        "                    validation_data=val_dataset,\n",
        "                    epochs=5,\n",
        "                    verbose=1)\n"
      ]
    },
    {
      "cell_type": "code",
      "execution_count": null,
      "metadata": {
        "colab": {
          "base_uri": "https://localhost:8080/",
          "height": 843
        },
        "id": "uS3tWBRdGGsZ",
        "outputId": "7c875f76-3fea-45a5-a363-181c6fb671ac"
      },
      "outputs": [
        {
          "data": {
            "image/png": "[encoded data removed]",
            "text/plain": [
              "<Figure size 640x480 with 1 Axes>"
            ]
          },
          "metadata": {},
          "output_type": "display_data"
        },
        {
          "data": {
            "image/png": "[encoded data removed]",
            "text/plain": [
              "<Figure size 640x480 with 1 Axes>"
            ]
          },
          "metadata": {},
          "output_type": "display_data"
        }
      ],
      "source": [
        "history_df = pd.DataFrame(history.history)\n",
        "history_df.loc[:,['loss','val_loss']].plot()\n",
        "history_df.loc[:,['accuracy','val_accuracy']].plot()\n",
        "plt.show()"
      ]
    },
    {
      "cell_type": "code",
      "execution_count": null,
      "metadata": {
        "colab": {
          "base_uri": "https://localhost:8080/"
        },
        "id": "lJIsze0sVCoX",
        "outputId": "3fdc4b6e-2a2f-4466-b2ca-513edcfda28e"
      },
      "outputs": [
        {
          "name": "stdout",
          "output_type": "stream",
          "text": [
            "Number of layers in the MobileNetV2 Model :  154\n"
          ]
        }
      ],
      "source": [
        "print('Number of layers in the MobileNetV2 Model : ', len(pre_trained_model.layers))\n",
        "\n",
        "\n",
        "# Here I am training the layers from 120th layer onwards.\n",
        "for layer in pre_trained_model.layers[120:]:\n",
        "    layer.trainable=True"
      ]
    },
    {
      "cell_type": "code",
      "execution_count": null,
      "metadata": {
        "colab": {
          "base_uri": "https://localhost:8080/"
        },
        "id": "abra4xT-VHH7",
        "outputId": "e33cb207-854c-45e0-9eca-9ee33366b93f"
      },
      "outputs": [
        {
          "name": "stderr",
          "output_type": "stream",
          "text": [
            "WARNING:absl:`lr` is deprecated in Keras optimizer, please use `learning_rate` or use the legacy optimizer, e.g.,tf.keras.optimizers.legacy.Adam.\n"
          ]
        }
      ],
      "source": [
        "model_tuned = get_model(pre_trained_model, preprocess_input, img_size)\n",
        "\n",
        "model_tuned.compile(\n",
        "    optimizer=tf.keras.optimizers.Adam(lr=0.0001),\n",
        "    loss = 'categorical_crossentropy',\n",
        "    metrics=['accuracy']\n",
        ")"
      ]
    },
    {
      "cell_type": "code",
      "execution_count": null,
      "metadata": {
        "colab": {
          "base_uri": "https://localhost:8080/"
        },
        "id": "RmdT1fTAVLee",
        "outputId": "443c1bbc-c63e-43df-edb8-39b3199e0c09"
      },
      "outputs": [
        {
          "name": "stdout",
          "output_type": "stream",
          "text": [
            "Epoch 1/14\n",
            "46/46 [==============================] - 747s 16s/step - loss: 1.6922 - accuracy: 0.4608 - val_loss: 6.2473 - val_accuracy: 0.0092\n",
            "Epoch 2/14\n",
            "46/46 [==============================] - 731s 16s/step - loss: 0.8647 - accuracy: 0.7481 - val_loss: 2.3857 - val_accuracy: 0.0154\n",
            "Epoch 3/14\n",
            "46/46 [==============================] - 719s 16s/step - loss: 0.5502 - accuracy: 0.8481 - val_loss: 2.3096 - val_accuracy: 0.0400\n",
            "Epoch 4/14\n",
            "46/46 [==============================] - 718s 16s/step - loss: 0.3693 - accuracy: 0.9000 - val_loss: 2.3291 - val_accuracy: 0.0492\n",
            "Epoch 5/14\n",
            "46/46 [==============================] - 725s 16s/step - loss: 0.2749 - accuracy: 0.9242 - val_loss: 2.3704 - val_accuracy: 0.0985\n",
            "Epoch 6/14\n",
            "46/46 [==============================] - 712s 15s/step - loss: 0.2132 - accuracy: 0.9427 - val_loss: 2.3709 - val_accuracy: 0.1077\n",
            "Epoch 7/14\n",
            "46/46 [==============================] - 716s 16s/step - loss: 0.1652 - accuracy: 0.9495 - val_loss: 2.3422 - val_accuracy: 0.0954\n",
            "Epoch 8/14\n"
          ]
        }
      ],
      "source": [
        "history_tuned = model_tuned.fit(train_dataset,\n",
        "                    validation_data=val_dataset,\n",
        "                    epochs=5,\n",
        "                    verbose=1)"
      ]
    },
    {
      "cell_type": "code",
      "execution_count": null,
      "metadata": {
        "id": "BNFbLEzTvr1z"
      },
      "outputs": [],
      "source": [
        "history_df = pd.DataFrame(history_tuned.history)\n",
        "history_df.loc[:,['loss','val_loss']].plot()\n",
        "history_df.loc[:,['accuracy','val_accuracy']].plot()\n",
        "plt.show()"
      ]
    }
  ],
  "metadata": {
    "colab": {
      "provenance": [],
      "include_colab_link": true
    },
    "kernelspec": {
      "display_name": "Python 3",
      "name": "python3"
    },
    "language_info": {
      "name": "python"
    }
  },
  "nbformat": 4,
  "nbformat_minor": 0
}